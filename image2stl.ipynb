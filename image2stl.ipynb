{
  "nbformat": 4,
  "nbformat_minor": 0,
  "metadata": {
    "colab": {
      "provenance": [],
      "authorship_tag": "ABX9TyO+HJyhKX4bTEJ8Zm6OX1oR",
      "include_colab_link": true
    },
    "kernelspec": {
      "name": "python3",
      "display_name": "Python 3"
    },
    "language_info": {
      "name": "python"
    }
  },
  "cells": [
    {
      "cell_type": "markdown",
      "metadata": {
        "id": "view-in-github",
        "colab_type": "text"
      },
      "source": [
        "<a href=\"https://colab.research.google.com/github/djtroyal/image2stl/blob/main/image2stl.ipynb\" target=\"_parent\"><img src=\"https://colab.research.google.com/assets/colab-badge.svg\" alt=\"Open In Colab\"/></a>"
      ]
    },
    {
      "cell_type": "code",
      "source": [
        "!pip install Pillow\n",
        "!pip install numpy-stl"
      ],
      "metadata": {
        "colab": {
          "base_uri": "https://localhost:8080/"
        },
        "id": "5ZgiYfkRM3st",
        "outputId": "c81247ee-3d9f-4b48-d7b5-ac2ec07a782a"
      },
      "execution_count": 3,
      "outputs": [
        {
          "output_type": "stream",
          "name": "stdout",
          "text": [
            "Looking in indexes: https://pypi.org/simple, https://us-python.pkg.dev/colab-wheels/public/simple/\n",
            "Requirement already satisfied: Pillow in /usr/local/lib/python3.8/dist-packages (8.4.0)\n",
            "Looking in indexes: https://pypi.org/simple, https://us-python.pkg.dev/colab-wheels/public/simple/\n",
            "Collecting numpy-stl\n",
            "  Downloading numpy_stl-3.0.0-py3-none-any.whl (19 kB)\n",
            "Requirement already satisfied: numpy in /usr/local/lib/python3.8/dist-packages (from numpy-stl) (1.22.4)\n",
            "Requirement already satisfied: python-utils>=3.4.5 in /usr/local/lib/python3.8/dist-packages (from numpy-stl) (3.5.2)\n",
            "Installing collected packages: numpy-stl\n",
            "Successfully installed numpy-stl-3.0.0\n"
          ]
        }
      ]
    },
    {
      "cell_type": "code",
      "execution_count": 7,
      "metadata": {
        "id": "BEvqaJzuM1bq"
      },
      "outputs": [],
      "source": [
        "import numpy as np\n",
        "from PIL import Image\n",
        "from stl import mesh\n",
        "\n",
        "# Load image and convert to grayscale\n",
        "img_url = 'https://i.etsystatic.com/13726973/r/il/da91e3/3108270269/il_1140xN.3108270269_kz25.jpg'\n",
        "img = Image.open(requests.get(img_url, stream=True).raw).convert('L')\n",
        "\n",
        "# Resize image\n",
        "width = 500\n",
        "height = 500\n",
        "img = img.resize((width, height))\n",
        "\n",
        "# Convert image to numpy array\n",
        "img_array = np.array(img)\n",
        "\n",
        "# Create mesh\n",
        "z_scale = 1\n",
        "x_scale = 1\n",
        "y_scale = 1\n",
        "z_min = np.min(img_array)\n",
        "z_max = np.max(img_array)\n",
        "z_span = z_max - z_min\n",
        "# Create an array of vertices with x, y and z coordinates\n",
        "vertices = np.zeros((height, width, 3))\n",
        "for i in range(height):\n",
        "    for j in range(width):\n",
        "        vertices[i][j][0] = j * x_scale\n",
        "        vertices[i][j][1] = i * y_scale\n",
        "        vertices[i][j][2] = (img_array[i][j] - z_min) * z_scale / z_span\n",
        "# Create an array of faces from the vertices\n",
        "faces = []\n",
        "for i in range(height - 1):\n",
        "    for j in range(width - 1):\n",
        "        vertex1 = vertices[i][j]\n",
        "        vertex2 = vertices[i+1][j]\n",
        "        vertex3 = vertices[i+1][j+1]\n",
        "        vertex4 = vertices[i][j+1]\n",
        "        face1 = [vertex1, vertex2, vertex3]\n",
        "        face2 = [vertex1, vertex3, vertex4]\n",
        "        faces.append(face1)\n",
        "        faces.append(face2)\n",
        "# Create mesh data from the faces\n",
        "mesh_data = mesh.Mesh(np.zeros(len(faces), dtype=mesh.Mesh.dtype))\n",
        "for i, f in enumerate(faces):\n",
        "    for j in range(3):\n",
        "        mesh_data.vectors[i][j] = f[j]\n",
        "        \n",
        "# Export mesh to STL file\n",
        "stl_file_name = 'mountain.stl'\n",
        "mesh_data.save(stl_file_name)\n"
      ]
    }
  ]
}