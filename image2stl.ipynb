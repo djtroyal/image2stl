{
  "nbformat": 4,
  "nbformat_minor": 0,
  "metadata": {
    "colab": {
      "provenance": [],
      "authorship_tag": "ABX9TyOiTFRXGe7+kryj7Dw3Avap",
      "include_colab_link": true
    },
    "kernelspec": {
      "name": "python3",
      "display_name": "Python 3"
    },
    "language_info": {
      "name": "python"
    }
  },
  "cells": [
    {
      "cell_type": "markdown",
      "metadata": {
        "id": "view-in-github",
        "colab_type": "text"
      },
      "source": [
        "<a href=\"https://colab.research.google.com/github/djtroyal/image2stl/blob/main/image2stl.ipynb\" target=\"_parent\"><img src=\"https://colab.research.google.com/assets/colab-badge.svg\" alt=\"Open In Colab\"/></a>"
      ]
    },
    {
      "cell_type": "code",
      "source": [
        "!pip install Pillow\n",
        "!pip install numpy-stl"
      ],
      "metadata": {
        "colab": {
          "base_uri": "https://localhost:8080/"
        },
        "id": "5ZgiYfkRM3st",
        "outputId": "c81247ee-3d9f-4b48-d7b5-ac2ec07a782a"
      },
      "execution_count": 3,
      "outputs": [
        {
          "output_type": "stream",
          "name": "stdout",
          "text": [
            "Looking in indexes: https://pypi.org/simple, https://us-python.pkg.dev/colab-wheels/public/simple/\n",
            "Requirement already satisfied: Pillow in /usr/local/lib/python3.8/dist-packages (8.4.0)\n",
            "Looking in indexes: https://pypi.org/simple, https://us-python.pkg.dev/colab-wheels/public/simple/\n",
            "Collecting numpy-stl\n",
            "  Downloading numpy_stl-3.0.0-py3-none-any.whl (19 kB)\n",
            "Requirement already satisfied: numpy in /usr/local/lib/python3.8/dist-packages (from numpy-stl) (1.22.4)\n",
            "Requirement already satisfied: python-utils>=3.4.5 in /usr/local/lib/python3.8/dist-packages (from numpy-stl) (3.5.2)\n",
            "Installing collected packages: numpy-stl\n",
            "Successfully installed numpy-stl-3.0.0\n"
          ]
        }
      ]
    },
    {
      "cell_type": "code",
      "execution_count": 20,
      "metadata": {
        "colab": {
          "base_uri": "https://localhost:8080/"
        },
        "id": "BEvqaJzuM1bq",
        "outputId": "80d582a6-38b8-4513-f874-081fec5903de"
      },
      "outputs": [
        {
          "output_type": "stream",
          "name": "stdout",
          "text": [
            "Enter image URL or file path: https://external-preview.redd.it/kIOROsGqy5KqIfpf8w7_FhkJvuGbMvqS0sPig_d_wco.jpg?auto=webp&v=enabled&s=12fa0577c8fc9d68d246d91d96900eba3b967f59\n",
            "STL file saved as kIOROsGqy5KqIfpf8w7_FhkJvuGbMvqS0sPig_d_wco.stl\n"
          ]
        }
      ],
      "source": [
        "import numpy as np\n",
        "from PIL import Image\n",
        "from stl import mesh\n",
        "import requests\n",
        "import os\n",
        "\n",
        "# Ask for user input\n",
        "img_source = input(\"Enter image URL or file path: \")\n",
        "\n",
        "# Load image and convert to grayscale\n",
        "if img_source.startswith(\"http\"):\n",
        "    img = Image.open(requests.get(img_source, stream=True).raw).convert('L')\n",
        "else:\n",
        "    img = Image.open(img_source).convert('L')\n",
        "\n",
        "# Resize image while maintaining aspect ratio\n",
        "max_size = 500\n",
        "width, height = img.size\n",
        "if width > height:\n",
        "    new_width = max_size\n",
        "    new_height = int(max_size * height / width)\n",
        "else:\n",
        "    new_height = max_size\n",
        "    new_width = int(max_size * width / height)\n",
        "img = img.resize((new_width, new_height))\n",
        "\n",
        "# Flip image along vertical axis\n",
        "img = img.transpose(method=Image.FLIP_LEFT_RIGHT)\n",
        "\n",
        "# Rotate image 180 degrees along z-axis\n",
        "img = img.rotate(180)\n",
        "\n",
        "# Convert image to numpy array\n",
        "img_array = np.array(img)\n",
        "\n",
        "# Create mesh\n",
        "z_scale = 50 #Update this value to make the z-axis more or less pronounced\n",
        "x_scale = 1\n",
        "y_scale = 1\n",
        "z_min = np.min(img_array)\n",
        "z_max = np.max(img_array)\n",
        "z_span = z_max - z_min\n",
        "vertices = np.zeros((new_height, new_width, 3))\n",
        "for i in range(new_height):\n",
        "    for j in range(new_width):\n",
        "        vertices[i][j][0] = j * x_scale\n",
        "        vertices[i][j][1] = i * y_scale\n",
        "        vertices[i][j][2] = (img_array[i][j] - z_min) * z_scale / z_span\n",
        "faces = []\n",
        "for i in range(new_height - 1):\n",
        "    for j in range(new_width - 1):\n",
        "        vertex1 = vertices[i][j]\n",
        "        vertex2 = vertices[i+1][j]\n",
        "        vertex3 = vertices[i+1][j+1]\n",
        "        vertex4 = vertices[i][j+1]\n",
        "        face1 = [vertex1, vertex2, vertex3]\n",
        "        face2 = [vertex1, vertex3, vertex4]\n",
        "        faces.append(face1)\n",
        "        faces.append(face2)\n",
        "mesh_data = mesh.Mesh(np.zeros(len(faces), dtype=mesh.Mesh.dtype))\n",
        "for i, f in enumerate(faces):\n",
        "    for j in range(3):\n",
        "        mesh_data.vectors[i][j] = f[j]\n",
        "        \n",
        "# Export mesh to STL file\n",
        "source_name = os.path.splitext(os.path.basename(img_source))[0]\n",
        "stl_file_name = source_name + '.stl'\n",
        "mesh_data.save(stl_file_name)\n",
        "print(f\"STL file saved as {stl_file_name}\")\n"
      ]
    }
  ]
}